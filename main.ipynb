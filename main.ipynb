{
 "cells": [
  {
   "cell_type": "code",
   "execution_count": 63,
   "metadata": {
    "ExecuteTime": {
     "end_time": "2021-04-27T19:15:11.554018Z",
     "start_time": "2021-04-27T19:15:11.542471Z"
    }
   },
   "outputs": [],
   "source": [
    "import numpy as np\n",
    "import scipy.sparse as sp\n",
    "import matplotlib.pylab as plt\n",
    "from scipy.stats import norm as awgn\n",
    "from numpy.linalg import inv\n",
    "import math"
   ]
  },
  {
   "cell_type": "code",
   "execution_count": 220,
   "metadata": {
    "ExecuteTime": {
     "end_time": "2021-04-27T20:37:36.728895Z",
     "start_time": "2021-04-27T20:37:36.489344Z"
    }
   },
   "outputs": [
    {
     "data": {
      "text/plain": [
       "array([[307,  19,  50, ...,  -1,  -1,  -1],\n",
       "       [ 76,  -1,  76, ...,  -1,  -1,  -1],\n",
       "       [205, 250, 328, ...,  -1,  -1,  -1],\n",
       "       ...,\n",
       "       [ -1, 113,  -1, ...,   0,  -1,  -1],\n",
       "       [ 80,  -1,  -1, ...,  -1,   0,  -1],\n",
       "       [ -1, 135,  -1, ...,  -1,  -1,   0]])"
      ]
     },
     "metadata": {},
     "output_type": "display_data"
    },
    {
     "data": {
      "text/plain": [
       "<matplotlib.lines.Line2D at 0x7fa9484125d0>"
      ]
     },
     "execution_count": 220,
     "metadata": {},
     "output_type": "execute_result"
    },
    {
     "data": {
      "image/png": "[encoded data removed]",
      "text/plain": [
       "<Figure size 432x288 with 1 Axes>"
      ]
     },
     "metadata": {
      "needs_background": "light"
     },
     "output_type": "display_data"
    }
   ],
   "source": [
    "def get_submatrix(offset, Z):\n",
    "    if offset == -1: return np.zeros((Z, Z), dtype = bool)\n",
    "    offset %= Z\n",
    "    if offset == 0: return np.eye(Z, dtype = bool)\n",
    "    return sp.diags([np.ones(offset), np.ones(Z - offset)],\n",
    "                    [offset - Z, offset], dtype = bool).toarray()\n",
    "\n",
    "Z = 6\n",
    "filler = np.vectorize(get_submatrix, otypes = [np.ndarray], signature = '()->(n,n)', excluded = (1,))\n",
    "matrix = np.loadtxt('matrices/R1-1711982_BG1_set1.csv', dtype = int)\n",
    "display(matrix)\n",
    "H = np.block([[x for x in row] for row in filler(matrix, Z)])\n",
    "\n",
    "\n",
    "plt.spy(H, markersize = 2, color = 'r')"
   ]
  },
  {
   "cell_type": "code",
   "execution_count": 577,
   "metadata": {
    "ExecuteTime": {
     "end_time": "2021-04-28T07:29:41.689108Z",
     "start_time": "2021-04-28T07:29:41.669355Z"
    }
   },
   "outputs": [],
   "source": [
    "#5G method https://ieeexplore.ieee.org/document/8882079\n",
    "\n",
    "def H_disassemble(H, Z):\n",
    "    m, n = H.shape\n",
    "    g = 4*Z\n",
    "\n",
    "    C = H[:g, :(n-m)]\n",
    "    D = H[:g, (n-m):(n-m)+(g)]\n",
    "    E = H[:g, (n-m)+(g):]\n",
    "    A = H[g:, :(n-m)]\n",
    "    B = H[g:, (n-m):(n-m)+(g)]\n",
    "    T = H[g:, (n-m)+(g):]\n",
    "\n",
    "    assert C.shape[1] + D.shape[1] + E.shape[1] == n\n",
    "    assert A.shape[1] + B.shape[1] + T.shape[1] == n\n",
    "    assert C.shape[0] + A.shape[0] == m\n",
    "    assert D.shape[0] + B.shape[0] == m\n",
    "    assert E.shape[0] + T.shape[0] == m\n",
    "    assert sum(sum(E)) == 0\n",
    "    assert sum(sum(np.eye(m - g) - T)) == 0\n",
    "\n",
    "    D_inv = inv(D.astype(int))\n",
    "    F = (D_inv @ C % 2).astype(bool)\n",
    "    \n",
    "    return F, A, B\n",
    "\n",
    "def get_codevector(a, F, A, B, seed = 2021):\n",
    "    p_1 = F @ a.T % 2\n",
    "    p_2 = (A @ a.T + B @ p_1) % 2\n",
    "\n",
    "    d = np.hstack((a, p_1, p_2))\n",
    "    return d #len(d) = 68 * Z\n"
   ]
  },
  {
   "cell_type": "code",
   "execution_count": 578,
   "metadata": {
    "ExecuteTime": {
     "end_time": "2021-04-28T07:29:42.015989Z",
     "start_time": "2021-04-28T07:29:42.001495Z"
    }
   },
   "outputs": [],
   "source": [
    "# rate matching and redundancy version support\n",
    "\n",
    "def get_shift(rv):\n",
    "    # N_cb = 66 * Z and no N_ref\n",
    "    if rv == 0: shift = 0\n",
    "    elif rv == 1: shift = 17 * Z\n",
    "    elif rv == 2: shift = 33 * Z\n",
    "    elif rv == 3: shift = 56 * Z\n",
    "    else: print('unkknown rv'); shift = 0\n",
    "    return shift\n",
    "\n",
    "def convolution(d, Z, shift, L):\n",
    "    d_cut = d[2*Z:] #len(d) = 66 * Z\n",
    "    if (L + shift < len(d_cut)):\n",
    "        v = d[shift: shift + L]\n",
    "    else:\n",
    "        n_repeat = max(math.floor((L - (len(d_cut) - shift)) / len(d_cut)), 0)\n",
    "        last_len =  (L - (len(d_cut) - shift)) % len(d_cut) if (L - (len(d_cut) - shift) > 0)  else 0\n",
    "        #print(shift, n_repeat, '*', len(d_cut), last_len)\n",
    "        v = np.hstack((d_cut[shift:], list(d_cut) * n_repeat, d_cut[:last_len]))\n",
    "    return v\n",
    "    \n",
    "def involution(l, Z, shift):\n",
    "    L = len(l)\n",
    "    r = np.zeros(66 * Z)\n",
    "    \n",
    "\n",
    "    exp_start = shift\n",
    "    exp_end = len(r) - ((L - (len(r) - shift)) % len(r))\n",
    "    l_exp = np.hstack((np.zeros(exp_start), l, np.zeros(exp_end)))\n",
    "    n_repeat = int(len(l_exp) / len(r)) # expanded with start and end\n",
    "\n",
    "    for k in range(n_repeat):\n",
    "        r = np.add(r, np.array(l_exp[k*len(r): (k+1)*len(r)]))\n",
    "    \n",
    "    r = np.hstack((np.zeros(2*Z), r))\n",
    "    return r"
   ]
  },
  {
   "cell_type": "code",
   "execution_count": 584,
   "metadata": {
    "ExecuteTime": {
     "end_time": "2021-04-28T07:30:16.741022Z",
     "start_time": "2021-04-28T07:30:16.731463Z"
    }
   },
   "outputs": [],
   "source": [
    "def demodulate(b):\n",
    "    u = 0.5 * (1 - np.sign(b))\n",
    "    return u.astype(bool)\n",
    "\n",
    "def modulate(v):\n",
    "    return 1 - 2*v\n",
    "\n",
    "def encoder(H, Z, SNR, d, L = 300, rv = 1, seed = 2021):\n",
    "    # SNR: Signal-Noise Ratio. SNR = 10 * lg(1 / variance) =  -20 lg (sigma) in dB.\n",
    "    # BPSK modulation: \"0\" -> +1., \"1\" -> -1.\n",
    "    \n",
    "    shift = get_shift(rv = rv)\n",
    "    v = convolution(d, Z, shift, L = L)\n",
    "    \n",
    "    x = modulate(v)\n",
    "    sigma = 10 ** (- SNR / 20)\n",
    "    np.random.seed(seed = seed)\n",
    "    e = awgn.rvs(size = x.shape, scale = sigma)\n",
    "    \n",
    "    y = x + e\n",
    "    return y\n",
    "\n",
    "def decoder(H, y, Z, SNR, rv = 1, alg = 'MSA'):\n",
    "    sigma = 10 ** (- SNR / 20)\n",
    "    l = 2 * y / (sigma**2)\n",
    "    \n",
    "    shift = get_shift(rv = rv)\n",
    "    r = involution(l, Z, shift)\n",
    "    r = np.where(r != 0, r, awgn.rvs(scale = sigma)) #workaround\n",
    "\n",
    "    if alg == 'MSA':\n",
    "        b = MSA(H, r, SNR = SNR)\n",
    "    elif alg == 'SPA':\n",
    "        b = SPA(H, r, SNR = SNR)\n",
    "    else:\n",
    "        print('unknown alg'); return np.zeros(y.shape).astype(bool)\n",
    "    \n",
    "    u = demodulate(b)\n",
    "    \n",
    "    s = H @ u % 2\n",
    "    if sum(s) != 0: print('probably there is an error')\n",
    "    return u"
   ]
  },
  {
   "cell_type": "code",
   "execution_count": 615,
   "metadata": {
    "ExecuteTime": {
     "end_time": "2021-04-28T07:36:14.635879Z",
     "start_time": "2021-04-28T07:36:14.616753Z"
    },
    "code_folding": [
     1,
     5
    ]
   },
   "outputs": [],
   "source": [
    "@np.vectorize\n",
    "def custom_llr(val):\n",
    "    if abs(val) == 1.: return val\n",
    "    return np.log((1 + val)/(1 - val))\n",
    "\n",
    "def SPA(H, r, SNR, max_iter = 10, threshold = 0.5):\n",
    "    \n",
    "    M = np.copy(H).astype(float)\n",
    "    E = np.zeros(H.shape)\n",
    "    H_inv = (H + np.ones(np.shape(H))) %2\n",
    "\n",
    "    for i in range(H.shape[0]):\n",
    "        M[i, :] = r * H[i, :]\n",
    "\n",
    "    for k in range(max_iter):\n",
    "        #print(k)\n",
    "        \n",
    "        M = np.tanh(M/2) + H_inv\n",
    "        t = np.prod(M, axis = 1) \n",
    "        for j in range(H.shape[1]):\n",
    "            E[:, j] = t * H[:, j]\n",
    "        E[:,:] = E[:, :] / M[:, :]\n",
    "        E = H*E\n",
    "        E = custom_llr(E)\n",
    "\n",
    "        belief = np.sum(E, axis = 0) + r\n",
    "        #print(belief)\n",
    "        M = (H != 0) * (belief - E)\n",
    "\n",
    "        if (sum(H @ demodulate(belief) % 2) == 0):\n",
    "            return belief\n",
    "        if (np.prod(np.abs(belief) > threshold)):\n",
    "            return belief\n",
    "        \n",
    "    return belief\n",
    "\n",
    "def MSA(H, r, SNR, max_iter = 100, threshold = 0.5):\n",
    "    belief = r\n",
    "    \n",
    "    L = np.copy(H).astype(float)\n",
    "    #initialization\n",
    "    for i in range(H.shape[0]):\n",
    "        L[i, :] = r * H[i, :]\n",
    "\n",
    "    for k in range(max_iter):\n",
    "        #row step\n",
    "        for i in range(L.shape[0]):\n",
    "            magnitudes = sorted(set(abs(L[i])), reverse = False)\n",
    "            magnitudes.remove(0)\n",
    "            if len(list(magnitudes)) == 1:\n",
    "                min1, min2 = magnitudes[0], magnitudes[0]\n",
    "            else:\n",
    "                min1, min2 = list(magnitudes)[:2]\n",
    "            argmin1 = np.where(abs(L[i]) == min1)[0]\n",
    "            signs = np.sign(L[i])\n",
    "            parity = np.sum(signs < 0) % 2\n",
    "\n",
    "            L[i] = (H[i] != 0) * min1\n",
    "            L[i][argmin1] = min2\n",
    "            L[i] *= signs * (-1) ** parity\n",
    "\n",
    "        #column step\n",
    "        belief = np.sum(L, axis = 0) + r\n",
    "        L = (H != 0) * (belief - L)\n",
    "        \n",
    "        #print(sum(H @ demodulate(belief) % 2), k)\n",
    "        if (sum(H @ demodulate(belief) % 2) == 0):\n",
    "            return belief\n",
    "        if (np.prod(np.abs(belief) > threshold)):\n",
    "            return belief\n",
    "        \n",
    "    return belief"
   ]
  },
  {
   "cell_type": "code",
   "execution_count": 620,
   "metadata": {
    "ExecuteTime": {
     "end_time": "2021-04-28T07:36:48.353654Z",
     "start_time": "2021-04-28T07:36:48.337659Z"
    },
    "code_folding": [
     0
    ]
   },
   "outputs": [],
   "source": [
    "def parse_H(n_set, Z):\n",
    "    filler = np.vectorize(get_submatrix, otypes = [np.ndarray], signature = '()->(n,n)', excluded = (1,))\n",
    "    matrix = np.loadtxt('matrices/R1-1711982_BG1_set{}.csv'.format(n_set), dtype = int)\n",
    "    H = np.block([[x for x in row] for row in filler(matrix, Z)])\n",
    "    F, A, B = H_disassemble(H, Z)\n",
    "    return H, F, A, B\n",
    "\n",
    "class experiment:\n",
    "    def __init__(self, n_set = 1, Z = 6, R = 1/3, alg = 'MSA'):\n",
    "        self.n_set = n_set\n",
    "        self.Z = Z\n",
    "        self.L = int(22*self.Z/R)\n",
    "        self.alg = alg\n",
    "        self.H, self.F, self.A, self.B = parse_H(self.n_set, self.Z)\n",
    "        \n",
    "    def run(self, seed, rv):\n",
    "        np.random.seed(seed = seed)\n",
    "        tx = np.random.randint(low = 0, high = 2, size = self.F.shape[1])\n",
    "        d = get_codevector(tx, self.F, self.A, self.B)\n",
    "\n",
    "        y = encoder(self.H, self.Z, self.SNR, d, L = self.L, rv = rv, seed = seed)\n",
    "        u = decoder(self.H, y, self.Z, self.SNR, rv = rv, alg = self.alg)\n",
    "        rx = u[:self.F.shape[1]]\n",
    "\n",
    "        res = '{}\\t{}\\t{:.3f}\\t{}\\t{}\\t{}\\t{}\\n'.format(self.SNR, rv, (len(tx)/self.L), abs(sum(d - u)/len(d)), abs(sum(rx - tx)/len(tx)), sum(d - u) == 0, sum(rx - tx) == 0)\n",
    "        return res\n",
    "        \n",
    "    def set_SNR(self, SNR):\n",
    "        self.SNR = SNR"
   ]
  },
  {
   "cell_type": "code",
   "execution_count": 623,
   "metadata": {
    "ExecuteTime": {
     "end_time": "2021-04-28T07:36:52.495754Z",
     "start_time": "2021-04-28T07:36:51.722470Z"
    }
   },
   "outputs": [],
   "source": [
    "exp = experiment(n_set = 1, Z = 12, R = 1/4, alg = 'MSA')\n",
    "f = open(\"results.txt\", \"a\")\n",
    "\n",
    "exp.set_SNR(5)\n",
    "res = exp.run(seed = 1110, rv = 0)\n",
    "f.write(res)\n",
    "f.close()"
   ]
  },
  {
   "cell_type": "code",
   "execution_count": 622,
   "metadata": {
    "ExecuteTime": {
     "end_time": "2021-04-28T07:36:49.688636Z",
     "start_time": "2021-04-28T07:36:49.231241Z"
    }
   },
   "outputs": [
    {
     "data": {
      "text/plain": [
       "(1104, 1632)"
      ]
     },
     "execution_count": 622,
     "metadata": {},
     "output_type": "execute_result"
    }
   ],
   "source": [
    "H, _, _, _ = parse_H(1, 24)\n",
    "H.shape"
   ]
  },
  {
   "cell_type": "code",
   "execution_count": 486,
   "metadata": {
    "ExecuteTime": {
     "end_time": "2021-04-28T07:01:28.729829Z",
     "start_time": "2021-04-28T07:01:27.845974Z"
    },
    "code_folding": [
     0
    ]
   },
   "outputs": [],
   "source": [
    "#old method\n",
    "\n",
    "def my_permutation(B, permut, n1, n2, n3):\n",
    "    v1 = B.take(n1, axis = 1)\n",
    "    v2 = B.take(n2, axis = 1)\n",
    "    index1, index2 = permut[n1], permut[n2]\n",
    "    permut[n1], permut[n2] = index2, index1\n",
    "    for i in range(v1.shape[0]):\n",
    "        B[i][n2] = v1[i]\n",
    "        B[i][n1] = v2[i]\n",
    "        \n",
    "    ones_in_n2 = list(np.where(v1 == 1)[0])\n",
    "    ones_in_n2.remove(n3)\n",
    "    for i in ones_in_n2:\n",
    "        B[:][i] = (B[:][i] + B[:][n3]) % 2\n",
    "\n",
    "        \n",
    "def custom_gauss_elimination(H):\n",
    "    B = np.copy(H)\n",
    "    completed_indexes = [] \n",
    "    drop_indexes = []\n",
    "    K = B.shape[0]\n",
    "    N = B.shape[1]\n",
    "    permut = np.arange(N)\n",
    "    for k_iter in range(K):\n",
    "        row = B.take(k_iter, axis = 0)\n",
    "        if(sum(row) != 0):\n",
    "            i = 0\n",
    "            while(row[i] != 1):\n",
    "                i+=1\n",
    "            my_permutation(B, permut, i, N - K + k_iter, k_iter)\n",
    "            completed_indexes.append(N - K + k_iter)\n",
    "        else:\n",
    "            drop_indexes.append(k_iter)\n",
    "            \n",
    "    if not drop_indexes: \n",
    "        return B, permut\n",
    "    else:\n",
    "        i = 0\n",
    "        for drop in drop_indexes:\n",
    "            H = np.delete(H, drop - i, axis=0)\n",
    "            i+=1\n",
    "        print(\"try again...\")\n",
    "        custom_gauss_elimination(H)\n",
    "        \n",
    "        \n",
    "def H2G(H):\n",
    "    B, permut = custom_gauss_elimination(H)\n",
    "    assert B[:, -B.shape[0]:].all() == np.eye(B.shape[0], dtype = int).all()\n",
    "\n",
    "    M = np.shape(H)[0] # N-K\n",
    "    N = np.shape(H)[1] \n",
    "    K = N - M\n",
    "    G = np.concatenate([np.eye(K), ((-1)*B[:, :K].T %2)], axis=1).astype(bool)\n",
    "    \n",
    "    A = np.copy(H)\n",
    "    for j in range(H.shape[1]):\n",
    "        h = H.take(permut[j], axis = 1)\n",
    "        A[:, j] = h[:]\n",
    "            \n",
    "    assert (G @ A.T % 2).all() == np.zeros((K, K)).all()\n",
    "    return G, A\n",
    "\n",
    "G, A = H2G(H)"
   ]
  },
  {
   "cell_type": "code",
   "execution_count": 6,
   "metadata": {
    "ExecuteTime": {
     "end_time": "2021-04-27T06:58:13.042759Z",
     "start_time": "2021-04-27T06:58:12.696532Z"
    }
   },
   "outputs": [
    {
     "data": {
      "image/png": "[encoded data removed]",
      "text/plain": [
       "<Figure size 432x288 with 1 Axes>"
      ]
     },
     "metadata": {
      "needs_background": "light"
     },
     "output_type": "display_data"
    },
    {
     "data": {
      "image/png": "[encoded data removed]",
      "text/plain": [
       "<Figure size 432x288 with 1 Axes>"
      ]
     },
     "metadata": {
      "needs_background": "light"
     },
     "output_type": "display_data"
    }
   ],
   "source": [
    "plt.spy(G, markersize = 2, color = 'r')\n",
    "plt.show()\n",
    "plt.spy(A, markersize = 2, color = 'b')\n",
    "plt.show()"
   ]
  },
  {
   "cell_type": "code",
   "execution_count": 388,
   "metadata": {
    "ExecuteTime": {
     "end_time": "2021-04-24T10:52:23.205686Z",
     "start_time": "2021-04-24T10:52:23.025739Z"
    }
   },
   "outputs": [
    {
     "data": {
      "image/png": "[encoded data removed]",
      "text/plain": [
       "<Figure size 1152x648 with 1 Axes>"
      ]
     },
     "metadata": {
      "needs_background": "light"
     },
     "output_type": "display_data"
    },
    {
     "data": {
      "text/plain": [
       "array([0.93476196, 1.11820958, 1.21316386])"
      ]
     },
     "execution_count": 388,
     "metadata": {},
     "output_type": "execute_result"
    }
   ],
   "source": [
    "sigma  = 0.5\n",
    "args0 = {'loc': 1,  'scale': sigma}\n",
    "args1 = {'loc': -1, 'scale': sigma}\n",
    "\n",
    "x = np.linspace(awgn.ppf(1e-5, **args1),\n",
    "                awgn.ppf(1 - 1e-5, **args0), 1000)\n",
    "\n",
    "plt.figure(figsize=(16,9))\n",
    "plt.plot(x, awgn.pdf(x, **args0), 'r-', lw=5, alpha=0.6, label='0')\n",
    "plt.plot(x, awgn.pdf(x, **args1), 'b-', lw=5, alpha=0.6, label='1')\n",
    "plt.grid()\n",
    "plt.show()\n",
    "\n",
    "awgn.rvs(size = 3, **args0)"
   ]
  },
  {
   "cell_type": "code",
   "execution_count": 389,
   "metadata": {
    "ExecuteTime": {
     "end_time": "2021-04-24T10:52:23.677135Z",
     "start_time": "2021-04-24T10:52:23.626557Z"
    }
   },
   "outputs": [],
   "source": [
    "def get_graph(H):\n",
    "    v_graph = np.array([dict() for x in range(H.shape[1])])\n",
    "    c_graph = np.array([dict() for x in range(H.shape[0])])\n",
    "\n",
    "    for v_iter in range(H.shape[1]):\n",
    "        v_graph[v_iter] = {'c_idx': np.where(H.take(v_iter, axis = 1) == 1)[0]}\n",
    "\n",
    "    for c_iter in range(H.shape[0]):\n",
    "        c_graph[c_iter] = {'v_idx': np.where(H.take(c_iter, axis = 0) == 1)[0]}\n",
    "        \n",
    "    return v_graph, c_graph\n",
    "\n",
    "v_graph, c_graph = get_graph(A)"
   ]
  },
  {
   "cell_type": "code",
   "execution_count": 393,
   "metadata": {
    "ExecuteTime": {
     "end_time": "2021-04-24T10:53:28.094786Z",
     "start_time": "2021-04-24T10:53:27.866894Z"
    }
   },
   "outputs": [
    {
     "name": "stdout",
     "output_type": "stream",
     "text": [
      "The line_profiler extension is already loaded. To reload it, use:\n",
      "  %reload_ext line_profiler\n",
      "0\n",
      "1\n",
      "\n",
      "*** Profile printout saved to text file 'lprof0'. \n",
      "Timer unit: 1e-06 s\n",
      "\n",
      "Total time: 353.067 s\n",
      "File: <ipython-input-183-545bcc01bc3d>\n",
      "Function: SPA at line 78\n",
      "\n",
      "Line #      Hits         Time  Per Hit   % Time  Line Contents\n",
      "==============================================================\n",
      "    78                                           def SPA(H, y, SNR, max_iter = 10, threshold = 0.5):\n",
      "    79                                               # SNR: Signal-Noise Ratio. SNR = 10 * lg(1 / variance) =  -20 lg (sigma) in dB.\n",
      "    80         1          5.0      5.0      0.0      sigma = 10 ** (- SNR / 20)\n",
      "    81         1         24.0     24.0      0.0      r = y * (2. / sigma ** 2)\n",
      "    82                                               \n",
      "    83         1      16037.0  16037.0      0.0      M = np.copy(H).astype(float)\n",
      "    84         1      72181.0  72181.0      0.0      H_inv = (H + np.ones(np.shape(H))) %2\n",
      "    85                                               \n",
      "    86                                               #initialization\n",
      "    87       673        463.0      0.7      0.0      for i in range(H.shape[0]):\n",
      "    88       672      31059.0     46.2      0.0          M[i, :] = r * H[i, :]\n",
      "    89                                           \n",
      "    90        11         19.0      1.7      0.0      for k in range(max_iter):\n",
      "    91        10       1071.0    107.1      0.0          print(k)\n",
      "    92                                                   \n",
      "    93        10     348481.0  34848.1      0.1          M = np.tanh(M/2) + H_inv\n",
      "    94      6730       5544.0      0.8      0.0          for i in range(H.shape[0]):\n",
      "    95   5597760    6217256.0      1.1      1.8              for j in range(H.shape[1]):\n",
      "    96   5591040  188925160.0     33.8     53.5                  t = np.delete(M[i][:], j)\n",
      "    97   5591040  148600331.0     26.6     42.1                  M[i][j] = np.prod(t)#, where = (t != 0))\n",
      "    98        10     306053.0  30605.3      0.1          M = M*H\n",
      "    99        10    8208304.0 820830.4      2.3          M = custom_func(M)\n",
      "   100                                           \n",
      "   101        10       6617.0    661.7      0.0          belief = np.sum(M, axis = 0) + r\n",
      "   102                                                   # decode and demodulate\n",
      "   103                                           \n",
      "   104                                                   # e2v\n",
      "   105        10     139841.0  13984.1      0.0          M = (H != 0) * (belief - M)\n",
      "   106                                                   \n",
      "   107        10     188341.0  18834.1      0.1          if (sum(H @ demodulate(belief) % 2) == 0):\n",
      "   108                                                       return belief\n",
      "   109        10        610.0     61.0      0.0          if (np.prod(np.abs(belief) > threshold)):\n",
      "   110                                                       return belief\n",
      "   111                                                   \n",
      "   112         1          1.0      1.0      0.0      return belief\n",
      "\n"
     ]
    }
   ],
   "source": [
    "%load_ext line_profiler\n",
    "%lprun -T lprof0 -f MSA MSA(H = A, y = y, SNR = SNR, max_iter = 100)\n",
    "print(open('profile', 'r').read())"
   ]
  },
  {
   "cell_type": "code",
   "execution_count": null,
   "metadata": {},
   "outputs": [],
   "source": []
  }
 ],
 "metadata": {
  "kernelspec": {
   "display_name": "Python 3",
   "language": "python",
   "name": "python3"
  },
  "language_info": {
   "codemirror_mode": {
    "name": "ipython",
    "version": 3
   },
   "file_extension": ".py",
   "mimetype": "text/x-python",
   "name": "python",
   "nbconvert_exporter": "python",
   "pygments_lexer": "ipython3",
   "version": "3.7.4"
  }
 },
 "nbformat": 4,
 "nbformat_minor": 2
}
