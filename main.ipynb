{
 "cells": [
  {
   "cell_type": "code",
   "execution_count": 1,
   "metadata": {
    "ExecuteTime": {
     "end_time": "2021-04-22T20:14:37.335546Z",
     "start_time": "2021-04-22T20:14:37.018461Z"
    }
   },
   "outputs": [],
   "source": [
    "import numpy as np\n",
    "import scipy.sparse as sp\n",
    "import matplotlib.pylab as plt"
   ]
  },
  {
   "cell_type": "code",
   "execution_count": 2,
   "metadata": {
    "ExecuteTime": {
     "end_time": "2021-04-22T20:14:37.805783Z",
     "start_time": "2021-04-22T20:14:37.336847Z"
    }
   },
   "outputs": [
    {
     "data": {
      "text/plain": [
       "<matplotlib.lines.Line2D at 0x7fe2cd98bd90>"
      ]
     },
     "execution_count": 2,
     "metadata": {},
     "output_type": "execute_result"
    },
    {
     "data": {
      "image/png": "[encoded data removed]",
      "text/plain": [
       "<Figure size 432x288 with 1 Axes>"
      ]
     },
     "metadata": {
      "needs_background": "light"
     },
     "output_type": "display_data"
    }
   ],
   "source": [
    "def get_submatrix(offset, Z):\n",
    "    if offset == -1: return np.zeros((Z, Z), dtype = bool)\n",
    "    offset %= Z\n",
    "    if offset == 0: return np.eye(Z, dtype = bool)\n",
    "    return sp.diags([np.ones(offset), np.ones(Z - offset)],\n",
    "                    [offset - Z, offset], dtype = bool).toarray()\n",
    "\n",
    "Z = 64\n",
    "filler = np.vectorize(get_submatrix, otypes = [np.ndarray], signature = '()->(n,n)', excluded = (1,))\n",
    "matrix = np.loadtxt('matrices/R1-1711982_BG2_set0.csv', dtype = int)\n",
    "H = np.block([[x for x in row] for row in filler(matrix, Z)])\n",
    "\n",
    "\n",
    "plt.spy(H, markersize = 2, color = 'r')"
   ]
  },
  {
   "cell_type": "code",
   "execution_count": null,
   "metadata": {
    "ExecuteTime": {
     "end_time": "2021-04-22T19:14:01.157333Z",
     "start_time": "2021-04-22T19:14:01.147014Z"
    }
   },
   "outputs": [],
   "source": []
  }
 ],
 "metadata": {
  "kernelspec": {
   "display_name": "Python 3",
   "language": "python",
   "name": "python3"
  },
  "language_info": {
   "codemirror_mode": {
    "name": "ipython",
    "version": 3
   },
   "file_extension": ".py",
   "mimetype": "text/x-python",
   "name": "python",
   "nbconvert_exporter": "python",
   "pygments_lexer": "ipython3",
   "version": "3.7.4"
  }
 },
 "nbformat": 4,
 "nbformat_minor": 2
}
