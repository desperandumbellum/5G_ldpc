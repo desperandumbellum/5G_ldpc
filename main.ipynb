{
 "cells": [
  {
   "cell_type": "code",
   "execution_count": 25,
   "metadata": {
    "ExecuteTime": {
     "end_time": "2021-04-27T18:25:54.593754Z",
     "start_time": "2021-04-27T18:25:54.581496Z"
    }
   },
   "outputs": [],
   "source": [
    "import numpy as np\n",
    "import scipy.sparse as sp\n",
    "import matplotlib.pylab as plt\n",
    "from scipy.stats import norm as awgn\n",
    "from numpy.linalg import inv"
   ]
  },
  {
   "cell_type": "code",
   "execution_count": 7,
   "metadata": {
    "ExecuteTime": {
     "end_time": "2021-04-27T18:11:21.159632Z",
     "start_time": "2021-04-27T18:11:20.874404Z"
    }
   },
   "outputs": [
    {
     "data": {
      "text/plain": [
       "array([[307,  19,  50, ...,  -1,  -1,  -1],\n",
       "       [ 76,  -1,  76, ...,  -1,  -1,  -1],\n",
       "       [205, 250, 328, ...,  -1,  -1,  -1],\n",
       "       ...,\n",
       "       [ -1, 113,  -1, ...,   0,  -1,  -1],\n",
       "       [ 80,  -1,  -1, ...,  -1,   0,  -1],\n",
       "       [ -1, 135,  -1, ...,  -1,  -1,   0]])"
      ]
     },
     "metadata": {},
     "output_type": "display_data"
    },
    {
     "data": {
      "text/plain": [
       "array([[False, True, False, ..., False, False, False],\n",
       "       [False, False, True, ..., False, False, False],\n",
       "       [True, False, False, ..., False, False, False],\n",
       "       ...,\n",
       "       [False, False, False, ..., True, False, False],\n",
       "       [False, False, False, ..., False, True, False],\n",
       "       [False, False, False, ..., False, False, True]], dtype=object)"
      ]
     },
     "metadata": {},
     "output_type": "display_data"
    },
    {
     "data": {
      "image/png": "[encoded data removed]",
      "text/plain": [
       "<Figure size 432x288 with 1 Axes>"
      ]
     },
     "metadata": {
      "needs_background": "light"
     },
     "output_type": "display_data"
    }
   ],
   "source": [
    "def get_submatrix(offset, Z):\n",
    "    if offset == -1: return np.zeros((Z, Z), dtype = bool)\n",
    "    offset %= Z\n",
    "    if offset == 0: return np.eye(Z, dtype = bool)\n",
    "    return sp.diags([np.ones(offset), np.ones(Z - offset)],\n",
    "                    [offset - Z, offset], dtype = bool).toarray()\n",
    "\n",
    "Z = 3\n",
    "filler = np.vectorize(get_submatrix, otypes = [np.ndarray], signature = '()->(n,n)', excluded = (1,))\n",
    "matrix = np.loadtxt('matrices/R1-1711982_BG1_set1.csv', dtype = int)\n",
    "display(matrix)\n",
    "H = np.block([[x for x in row] for row in filler(matrix, Z)])\n",
    "\n",
    "\n",
    "plt.spy(H, markersize = 2, color = 'r')"
   ]
  },
  {
   "cell_type": "code",
   "execution_count": 61,
   "metadata": {
    "ExecuteTime": {
     "end_time": "2021-04-27T18:42:25.615098Z",
     "start_time": "2021-04-27T18:42:25.590693Z"
    }
   },
   "outputs": [],
   "source": [
    "#5G method https://ieeexplore.ieee.org/document/8882079\n",
    "\n",
    "def H_disassemble(H, Z):\n",
    "    m, n = H.shape\n",
    "    g = 4*Z\n",
    "\n",
    "    C = H[:g, :(n-m)]\n",
    "    D = H[:g, (n-m):(n-m)+(g)]\n",
    "    E = H[:g, (n-m)+(g):]\n",
    "    A = H[g:, :(n-m)]\n",
    "    B = H[g:, (n-m):(n-m)+(g)]\n",
    "    T = H[g:, (n-m)+(g):]\n",
    "\n",
    "    assert C.shape[1] + D.shape[1] + E.shape[1] == n\n",
    "    assert A.shape[1] + B.shape[1] + T.shape[1] == n\n",
    "    assert C.shape[0] + A.shape[0] == m\n",
    "    assert D.shape[0] + B.shape[0] == m\n",
    "    assert E.shape[0] + T.shape[0] == m\n",
    "    assert sum(sum(E)) == 0\n",
    "    assert sum(sum(np.eye(m - g) - T)) == 0\n",
    "\n",
    "    D_inv = inv(D.astype(int))\n",
    "    F = (D_inv @ C % 2).astype(bool)\n",
    "    \n",
    "    return F, A, B\n",
    "\n",
    "def get_codevector(F, A, B, seed = 2021):\n",
    "    np.random.seed(seed = seed)\n",
    "    s = np.random.randint(low = 0, high = 2, size = F.shape[1])\n",
    "\n",
    "    p_1 = F @ s.T % 2\n",
    "    p_2 = (A @ s.T + B @ p_1) % 2\n",
    "\n",
    "    d = np.hstack((s, p_1, p_2))\n",
    "    return d #len(d) = 68 * Z\n",
    "    \n",
    "F, A, B = H_disassemble(H, Z)\n",
    "d = get_codevector(F, A, B)"
   ]
  },
  {
   "cell_type": "code",
   "execution_count": 3,
   "metadata": {
    "ExecuteTime": {
     "end_time": "2021-04-27T06:56:28.058517Z",
     "start_time": "2021-04-27T06:56:28.045519Z"
    }
   },
   "outputs": [],
   "source": [
    "#old method\n",
    "\n",
    "def my_permutation(B, permut, n1, n2, n3):\n",
    "    v1 = B.take(n1, axis = 1)\n",
    "    v2 = B.take(n2, axis = 1)\n",
    "    index1, index2 = permut[n1], permut[n2]\n",
    "    permut[n1], permut[n2] = index2, index1\n",
    "    for i in range(v1.shape[0]):\n",
    "        B[i][n2] = v1[i]\n",
    "        B[i][n1] = v2[i]\n",
    "        \n",
    "    ones_in_n2 = list(np.where(v1 == 1)[0])\n",
    "    ones_in_n2.remove(n3)\n",
    "    for i in ones_in_n2:\n",
    "        B[:][i] = (B[:][i] + B[:][n3]) % 2\n",
    "\n",
    "        \n",
    "def custom_gauss_elimination(H):\n",
    "    B = np.copy(H)\n",
    "    completed_indexes = [] \n",
    "    drop_indexes = []\n",
    "    K = B.shape[0]\n",
    "    N = B.shape[1]\n",
    "    permut = np.arange(N)\n",
    "    for k_iter in range(K):\n",
    "        row = B.take(k_iter, axis = 0)\n",
    "        if(sum(row) != 0):\n",
    "            i = 0\n",
    "            while(row[i] != 1):\n",
    "                i+=1\n",
    "            my_permutation(B, permut, i, N - K + k_iter, k_iter)\n",
    "            completed_indexes.append(N - K + k_iter)\n",
    "        else:\n",
    "            drop_indexes.append(k_iter)\n",
    "            \n",
    "    if not drop_indexes: \n",
    "        return B, permut\n",
    "    else:\n",
    "        i = 0\n",
    "        for drop in drop_indexes:\n",
    "            H = np.delete(H, drop - i, axis=0)\n",
    "            i+=1\n",
    "        print(\"try again...\")\n",
    "        custom_gauss_elimination(H)\n",
    "        \n",
    "        \n",
    "def H2G(H):\n",
    "    B, permut = custom_gauss_elimination(H)\n",
    "    assert B[:, -B.shape[0]:].all() == np.eye(B.shape[0], dtype = int).all()\n",
    "\n",
    "    M = np.shape(H)[0] # N-K\n",
    "    N = np.shape(H)[1] \n",
    "    K = N - M\n",
    "    G = np.concatenate([np.eye(K), ((-1)*B[:, :K].T %2)], axis=1).astype(bool)\n",
    "    \n",
    "    A = np.copy(H)\n",
    "    for j in range(H.shape[1]):\n",
    "        h = H.take(permut[j], axis = 1)\n",
    "        A[:, j] = h[:]\n",
    "            \n",
    "    assert (G @ A.T % 2).all() == np.zeros((K, K)).all()\n",
    "    return G, A\n",
    "\n",
    "G, A = H2G(H)"
   ]
  },
  {
   "cell_type": "code",
   "execution_count": 6,
   "metadata": {
    "ExecuteTime": {
     "end_time": "2021-04-27T06:58:13.042759Z",
     "start_time": "2021-04-27T06:58:12.696532Z"
    }
   },
   "outputs": [
    {
     "data": {
      "image/png": "[encoded data removed]",
      "text/plain": [
       "<Figure size 432x288 with 1 Axes>"
      ]
     },
     "metadata": {
      "needs_background": "light"
     },
     "output_type": "display_data"
    },
    {
     "data": {
      "image/png": "[encoded data removed]",
      "text/plain": [
       "<Figure size 432x288 with 1 Axes>"
      ]
     },
     "metadata": {
      "needs_background": "light"
     },
     "output_type": "display_data"
    }
   ],
   "source": [
    "plt.spy(G, markersize = 2, color = 'r')\n",
    "plt.show()\n",
    "plt.spy(A, markersize = 2, color = 'b')\n",
    "plt.show()"
   ]
  },
  {
   "cell_type": "code",
   "execution_count": 7,
   "metadata": {
    "ExecuteTime": {
     "end_time": "2021-04-27T06:58:20.081886Z",
     "start_time": "2021-04-27T06:58:20.031718Z"
    }
   },
   "outputs": [
    {
     "data": {
      "text/plain": [
       "23"
      ]
     },
     "execution_count": 7,
     "metadata": {},
     "output_type": "execute_result"
    }
   ],
   "source": [
    "max(np.sum(H, axis = 0))"
   ]
  },
  {
   "cell_type": "code",
   "execution_count": 387,
   "metadata": {
    "ExecuteTime": {
     "end_time": "2021-04-24T10:52:22.310234Z",
     "start_time": "2021-04-24T10:52:22.283049Z"
    }
   },
   "outputs": [],
   "source": [
    "v_nodes_values = np.zeros(A.shape[1])\n",
    "for c_node in range(A.shape[0]):\n",
    "    v_node_list = np.where(A.take(c_node, axis = 0) == 1)[0]"
   ]
  },
  {
   "cell_type": "code",
   "execution_count": 388,
   "metadata": {
    "ExecuteTime": {
     "end_time": "2021-04-24T10:52:23.205686Z",
     "start_time": "2021-04-24T10:52:23.025739Z"
    }
   },
   "outputs": [
    {
     "data": {
      "image/png": "[encoded data removed]",
      "text/plain": [
       "<Figure size 1152x648 with 1 Axes>"
      ]
     },
     "metadata": {
      "needs_background": "light"
     },
     "output_type": "display_data"
    },
    {
     "data": {
      "text/plain": [
       "array([0.93476196, 1.11820958, 1.21316386])"
      ]
     },
     "execution_count": 388,
     "metadata": {},
     "output_type": "execute_result"
    }
   ],
   "source": [
    "sigma  = 0.5\n",
    "args0 = {'loc': 1,  'scale': sigma}\n",
    "args1 = {'loc': -1, 'scale': sigma}\n",
    "\n",
    "x = np.linspace(awgn.ppf(1e-5, **args1),\n",
    "                awgn.ppf(1 - 1e-5, **args0), 1000)\n",
    "\n",
    "plt.figure(figsize=(16,9))\n",
    "plt.plot(x, awgn.pdf(x, **args0), 'r-', lw=5, alpha=0.6, label='0')\n",
    "plt.plot(x, awgn.pdf(x, **args1), 'b-', lw=5, alpha=0.6, label='1')\n",
    "plt.grid()\n",
    "plt.show()\n",
    "\n",
    "awgn.rvs(size = 3, **args0)"
   ]
  },
  {
   "cell_type": "code",
   "execution_count": 389,
   "metadata": {
    "ExecuteTime": {
     "end_time": "2021-04-24T10:52:23.677135Z",
     "start_time": "2021-04-24T10:52:23.626557Z"
    }
   },
   "outputs": [],
   "source": [
    "def get_graph(H):\n",
    "    v_graph = np.array([dict() for x in range(H.shape[1])])\n",
    "    c_graph = np.array([dict() for x in range(H.shape[0])])\n",
    "\n",
    "    for v_iter in range(H.shape[1]):\n",
    "        v_graph[v_iter] = {'c_idx': np.where(H.take(v_iter, axis = 1) == 1)[0]}\n",
    "\n",
    "    for c_iter in range(H.shape[0]):\n",
    "        c_graph[c_iter] = {'v_idx': np.where(H.take(c_iter, axis = 0) == 1)[0]}\n",
    "        \n",
    "    return v_graph, c_graph\n",
    "\n",
    "v_graph, c_graph = get_graph(A)"
   ]
  },
  {
   "cell_type": "code",
   "execution_count": 8,
   "metadata": {
    "ExecuteTime": {
     "end_time": "2021-04-27T06:58:31.813076Z",
     "start_time": "2021-04-27T06:58:31.775180Z"
    }
   },
   "outputs": [],
   "source": [
    "def MSA(H, y, SNR, max_iter = 10, threshold = 0.5):\n",
    "    # SNR: Signal-Noise Ratio. SNR = 10 * lg(1 / variance) =  -20 lg (sigma) in dB.\n",
    "    sigma = 10 ** (- SNR / 20)\n",
    "    r = y * (2. / sigma ** 2)\n",
    "    belief = r\n",
    "    \n",
    "    L = np.copy(H).astype(float)\n",
    "    \n",
    "    #initialization\n",
    "    for i in range(L.shape[0]):\n",
    "        L[i, :] = (L[i, :] > 0) * belief[:]\n",
    "\n",
    "    for k in range(max_iter):\n",
    "        print(k)\n",
    "        #row step\n",
    "        for i in range(L.shape[0]):\n",
    "            magnitudes = sorted(set(abs(L[i])), reverse = False)\n",
    "            magnitudes.remove(0)\n",
    "            min1, min2 = list(magnitudes)[:2]\n",
    "            argmin1 = np.where(abs(L[i]) == min1)[0]\n",
    "            signs = np.sign(L[i])\n",
    "            parity = np.sum(signs < 0) % 2\n",
    "\n",
    "            L[i] = (L[i] != 0) * min1\n",
    "            L[i][argmin1] = min2\n",
    "            L[i] *= signs * (-1) ** parity\n",
    "\n",
    "        #column step\n",
    "        belief = np.sum(L, axis = 0) + r\n",
    "        L = (H != 0) * (belief - L)\n",
    "        \n",
    "        if (sum(H @ demodulate(belief) % 2) == 0):\n",
    "            return belief\n",
    "        if (np.prod(np.abs(belief) > threshold)):\n",
    "            return belief\n",
    "        \n",
    "    return belief\n",
    "\n",
    "def demodulate(b):\n",
    "    u = 0.5 * (1 - np.sign(b))\n",
    "    return u.astype(bool)\n",
    "\n",
    "def modulate(v):\n",
    "    return 1 - 2*v\n",
    "\n",
    "def encoder(G, v, SNR, seed = 2021):\n",
    "    # SNR: Signal-Noise Ratio. SNR = 10 * lg(1 / variance) =  -20 lg (sigma) in dB.\n",
    "    # BPSK modulation: \"0\" -> +1., \"1\" -> -1.\n",
    "    \n",
    "    x = modulate(v)\n",
    "    \n",
    "    sigma = 10 ** (- SNR / 20)\n",
    "    np.random.seed(seed = seed)\n",
    "    e = awgn.rvs(size = x.shape, scale = sigma)\n",
    "    \n",
    "    y = x + e\n",
    "    return y\n",
    "\n",
    "\n",
    "def decoder(H, y, SNR, alg = 'MSA'):\n",
    "    if alg == 'MSA':\n",
    "        b = MSA(H, y, SNR = SNR)\n",
    "    elif alg == 'SPA':\n",
    "        b = SPA(H, y, SNR = SNR)\n",
    "    else:\n",
    "        print('unknown alg'); return np.zeros(y.shape).astype(bool)\n",
    "    \n",
    "    u = demodulate(b)\n",
    "    \n",
    "    s = H @ u % 2\n",
    "    if sum(s) != 0: print('probably there is an error')\n",
    "    return u\n",
    "\n",
    "@np.vectorize\n",
    "def custom_llr(val):\n",
    "    if abs(val) == 1.: return val\n",
    "    return np.log((1 + val)/(1 - val))\n",
    "\n",
    "def SPA(H, y, SNR, max_iter = 10, threshold = 0.5):\n",
    "    # SNR: Signal-Noise Ratio. SNR = 10 * lg(1 / variance) =  -20 lg (sigma) in dB.\n",
    "    sigma = 10 ** (- SNR / 20)\n",
    "    r = y * (2. / sigma ** 2)\n",
    "    \n",
    "    M = np.copy(H).astype(float)\n",
    "    E = np.zeros(H.shape)\n",
    "    H_inv = (H + np.ones(np.shape(H))) %2\n",
    "\n",
    "    for i in range(H.shape[0]):\n",
    "        M[i, :] = r * H[i, :]\n",
    "\n",
    "    for k in range(max_iter):\n",
    "        #print(k)\n",
    "        \n",
    "        M = np.tanh(M/2) + H_inv\n",
    "        t = np.prod(M, axis = 1) \n",
    "        for j in range(H.shape[1]):\n",
    "            E[:, j] = t * H[:, j]\n",
    "        E[:,:] = E[:, :] / M[:, :]\n",
    "        E = H*E\n",
    "        E = custom_llr(E)\n",
    "\n",
    "        belief = np.sum(E, axis = 0) + r\n",
    "        #print(belief)\n",
    "        M = (H != 0) * (belief - E)\n",
    "\n",
    "        if (sum(H @ demodulate(belief) % 2) == 0):\n",
    "            return belief\n",
    "        if (np.prod(np.abs(belief) > threshold)):\n",
    "            return belief\n",
    "        \n",
    "    return belief"
   ]
  },
  {
   "cell_type": "code",
   "execution_count": 12,
   "metadata": {
    "ExecuteTime": {
     "end_time": "2021-04-27T07:00:28.500625Z",
     "start_time": "2021-04-27T06:59:41.886337Z"
    }
   },
   "outputs": [
    {
     "name": "stdout",
     "output_type": "stream",
     "text": [
      "probably there is an error\n",
      "False\n",
      "probably there is an error\n",
      "False\n",
      "probably there is an error\n",
      "False\n",
      "True\n",
      "probably there is an error\n",
      "False\n"
     ]
    }
   ],
   "source": [
    "a = np.random.randint(low = 0, high = 2, size = G.shape[0])\n",
    "v = (a @ G % 2).astype(bool)\n",
    "\n",
    "SNR = 8\n",
    "for n in range(5):\n",
    "    y = encoder(G = G, v = v, SNR = SNR, seed = n)\n",
    "    u = decoder(H = A, y = y, SNR = SNR, alg = 'SPA')\n",
    "\n",
    "    print(np.allclose(u, v))"
   ]
  },
  {
   "cell_type": "code",
   "execution_count": 393,
   "metadata": {
    "ExecuteTime": {
     "end_time": "2021-04-24T10:53:28.094786Z",
     "start_time": "2021-04-24T10:53:27.866894Z"
    }
   },
   "outputs": [
    {
     "name": "stdout",
     "output_type": "stream",
     "text": [
      "The line_profiler extension is already loaded. To reload it, use:\n",
      "  %reload_ext line_profiler\n",
      "0\n",
      "1\n",
      "\n",
      "*** Profile printout saved to text file 'lprof0'. \n",
      "Timer unit: 1e-06 s\n",
      "\n",
      "Total time: 353.067 s\n",
      "File: <ipython-input-183-545bcc01bc3d>\n",
      "Function: SPA at line 78\n",
      "\n",
      "Line #      Hits         Time  Per Hit   % Time  Line Contents\n",
      "==============================================================\n",
      "    78                                           def SPA(H, y, SNR, max_iter = 10, threshold = 0.5):\n",
      "    79                                               # SNR: Signal-Noise Ratio. SNR = 10 * lg(1 / variance) =  -20 lg (sigma) in dB.\n",
      "    80         1          5.0      5.0      0.0      sigma = 10 ** (- SNR / 20)\n",
      "    81         1         24.0     24.0      0.0      r = y * (2. / sigma ** 2)\n",
      "    82                                               \n",
      "    83         1      16037.0  16037.0      0.0      M = np.copy(H).astype(float)\n",
      "    84         1      72181.0  72181.0      0.0      H_inv = (H + np.ones(np.shape(H))) %2\n",
      "    85                                               \n",
      "    86                                               #initialization\n",
      "    87       673        463.0      0.7      0.0      for i in range(H.shape[0]):\n",
      "    88       672      31059.0     46.2      0.0          M[i, :] = r * H[i, :]\n",
      "    89                                           \n",
      "    90        11         19.0      1.7      0.0      for k in range(max_iter):\n",
      "    91        10       1071.0    107.1      0.0          print(k)\n",
      "    92                                                   \n",
      "    93        10     348481.0  34848.1      0.1          M = np.tanh(M/2) + H_inv\n",
      "    94      6730       5544.0      0.8      0.0          for i in range(H.shape[0]):\n",
      "    95   5597760    6217256.0      1.1      1.8              for j in range(H.shape[1]):\n",
      "    96   5591040  188925160.0     33.8     53.5                  t = np.delete(M[i][:], j)\n",
      "    97   5591040  148600331.0     26.6     42.1                  M[i][j] = np.prod(t)#, where = (t != 0))\n",
      "    98        10     306053.0  30605.3      0.1          M = M*H\n",
      "    99        10    8208304.0 820830.4      2.3          M = custom_func(M)\n",
      "   100                                           \n",
      "   101        10       6617.0    661.7      0.0          belief = np.sum(M, axis = 0) + r\n",
      "   102                                                   # decode and demodulate\n",
      "   103                                           \n",
      "   104                                                   # e2v\n",
      "   105        10     139841.0  13984.1      0.0          M = (H != 0) * (belief - M)\n",
      "   106                                                   \n",
      "   107        10     188341.0  18834.1      0.1          if (sum(H @ demodulate(belief) % 2) == 0):\n",
      "   108                                                       return belief\n",
      "   109        10        610.0     61.0      0.0          if (np.prod(np.abs(belief) > threshold)):\n",
      "   110                                                       return belief\n",
      "   111                                                   \n",
      "   112         1          1.0      1.0      0.0      return belief\n",
      "\n"
     ]
    }
   ],
   "source": [
    "%load_ext line_profiler\n",
    "%lprun -T lprof0 -f MSA MSA(H = A, y = y, SNR = SNR, max_iter = 100)\n",
    "print(open('profile', 'r').read())"
   ]
  },
  {
   "cell_type": "code",
   "execution_count": 5,
   "metadata": {
    "ExecuteTime": {
     "end_time": "2021-04-25T15:09:54.897843Z",
     "start_time": "2021-04-25T15:09:54.881990Z"
    }
   },
   "outputs": [
    {
     "data": {
      "text/plain": [
       "array([-0.49999999,  2.49999993, -3.99999988,  4.99999985, -3.4999999 ,\n",
       "        2.49999993])"
      ]
     },
     "execution_count": 5,
     "metadata": {},
     "output_type": "execute_result"
    }
   ],
   "source": [
    "y = np.array([-0.1, 0.5, -0.8, 1.0, -0.7, 0.5])\n",
    "SNR = 0.9691\n",
    "sigma = 10 ** (- SNR / 20)\n",
    "r = y * (2. / sigma ** 2)\n",
    "r"
   ]
  },
  {
   "cell_type": "code",
   "execution_count": null,
   "metadata": {},
   "outputs": [],
   "source": []
  }
 ],
 "metadata": {
  "kernelspec": {
   "display_name": "Python 3",
   "language": "python",
   "name": "python3"
  },
  "language_info": {
   "codemirror_mode": {
    "name": "ipython",
    "version": 3
   },
   "file_extension": ".py",
   "mimetype": "text/x-python",
   "name": "python",
   "nbconvert_exporter": "python",
   "pygments_lexer": "ipython3",
   "version": "3.7.4"
  }
 },
 "nbformat": 4,
 "nbformat_minor": 2
}
